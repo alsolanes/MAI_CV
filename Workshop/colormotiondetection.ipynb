{
 "cells": [
  {
   "cell_type": "markdown",
   "metadata": {},
   "source": [
    "## Task 04. Color Object Detection \n",
    "\n",
    "Now we have a more complex scenario. We have several objects of the same colour, i.e. 5 yellow balls. They are diposed around the scene having diferent sizes. What we want now is to track the only one that is moving around, no matter its size. \n",
    "\n",
    "\n",
    "### Goals:\n",
    "* Step 1: Basic motion detection \n",
    "\n",
    "* Step 2: Detect the presence of colored objects using computer vision techniques.\n",
    "\n",
    "* Step 3: Track the object as it moves around in the video frames, drawing its previous positions as it moves, creating a tail behind it"
   ]
  },
  {
   "cell_type": "markdown",
   "metadata": {},
   "source": [
    "# Initialization parameters"
   ]
  },
  {
   "cell_type": "code",
   "execution_count": 1,
   "metadata": {
    "collapsed": true
   },
   "outputs": [],
   "source": [
    "# import the necessary packages\n",
    "from collections import deque\n",
    "import numpy as np\n",
    "import time\n",
    "import cv2\n",
    "import datetime\n",
    "\n",
    "#Convenience resize function\n",
    "def resize(image, width=None, height=None, inter=cv2.INTER_AREA):\n",
    "    # initialize the dimensions of the image to be resized and\n",
    "    # grab the image size\n",
    "    dim = None\n",
    "    (h, w) = image.shape[:2]\n",
    "\n",
    "    # if both the width and height are None, then return the\n",
    "    # original image\n",
    "    if width is None and height is None:\n",
    "        return image\n",
    "\n",
    "    # check to see if the width is None\n",
    "    if width is None:\n",
    "        # calculate the ratio of the height and construct the\n",
    "        # dimensions\n",
    "        r = height / float(h)\n",
    "        dim = (int(w * r), height)\n",
    "\n",
    "    # otherwise, the height is None\n",
    "    else:\n",
    "        # calculate the ratio of the width and construct the\n",
    "        # dimensions\n",
    "        r = width / float(w)\n",
    "        dim = (width, int(h * r))\n",
    "\n",
    "    # resize the image\n",
    "    resized = cv2.resize(image, dim, interpolation=inter)\n",
    "\n",
    "    # return the resized image\n",
    "    return resized"
   ]
  },
  {
   "cell_type": "markdown",
   "metadata": {},
   "source": [
    "# Define the threshold of the color"
   ]
  },
  {
   "cell_type": "code",
   "execution_count": 3,
   "metadata": {
    "collapsed": false
   },
   "outputs": [
    {
     "name": "stdout",
     "output_type": "stream",
     "text": [
      "Lower = (0,0,0)\n",
      "Upper = (255,255,255)\n"
     ]
    }
   ],
   "source": [
    "VIDEODEV = 0\n",
    "camera = cv2.VideoCapture(VIDEODEV); assert camera.isOpened()\n",
    "time.sleep(0.25)\n",
    "firstFrame = None\n",
    "\n",
    "\n",
    "def setup_trackbars(range_filter):\n",
    "    cv2.namedWindow(\"Trackbars\", 0)\n",
    "    for i in [\"MIN\", \"MAX\"]:\n",
    "        for j in range_filter:\n",
    "            v = 0 if i == \"MIN\" else 255\n",
    "            cv2.createTrackbar(\"%s_%s\" % (j, i), \"Trackbars\", v, 255, lambda x : None)\n",
    "            \n",
    "            \n",
    "\n",
    "def get_trackbar_values(range_filter):\n",
    "    values = {}\n",
    "\n",
    "    for i in [\"MIN\", \"MAX\"]:\n",
    "        for j in range_filter:\n",
    "            v = cv2.getTrackbarPos(\"%s_%s\" % (j, i), \"Trackbars\")\n",
    "            values[\"%s_%s\" % (j, i)] = v\n",
    "    return values\n",
    "\n",
    "camera = cv2.VideoCapture(VIDEODEV); assert camera.isOpened()\n",
    "setup_trackbars('HSV')\n",
    "while True:\n",
    "        (grabbed, frame) = camera.read()\n",
    "        frame_to_thresh = cv2.cvtColor(frame, cv2.COLOR_BGR2HSV)\n",
    "        v = get_trackbar_values('HSV')\n",
    "        thresh = cv2.inRange(frame_to_thresh, (v['H_MIN'], v['S_MIN'], v['V_MIN']), (v['H_MAX'], v['S_MAX'], v['V_MAX']))\n",
    "        cv2.imshow(\"Original\", frame)\n",
    "        cv2.imshow(\"Thresh\", thresh)\n",
    "        if cv2.waitKey(1) & 0xFF is ord('q'):\n",
    "            break\n",
    "            \n",
    "print \"Lower = (%d,%d,%d)\" % (v['H_MIN'], v['S_MIN'], v['V_MIN'])\n",
    "print \"Upper = (%d,%d,%d)\" % (v['H_MAX'], v['S_MAX'], v['V_MAX'])\n",
    "# cleanup the camera and close any open windows\n",
    "camera.release()\n",
    "cv2.destroyAllWindows()"
   ]
  },
  {
   "cell_type": "markdown",
   "metadata": {},
   "source": [
    "# Track the movement of the colored item\n",
    "\n",
    "To fulfill this commitment, we mixed the two codes (trackball & basicmotion) and changed the definition of background. Instead of having a \"real\" background, what we will do will be refresh it each $n$ frames in order to know what items are really moving at that moment. So if there are 2 balls on the frame it will detect one or none, depending if they are moving or not.\n"
   ]
  },
  {
   "cell_type": "code",
   "execution_count": 4,
   "metadata": {
    "collapsed": false
   },
   "outputs": [
    {
     "name": "stdout",
     "output_type": "stream",
     "text": [
      "Divided by 0\n"
     ]
    }
   ],
   "source": [
    "\n",
    "##\n",
    "colorLower = (115,109,217)\n",
    "colorUpper = (227,181,255)\n",
    "bg_rate = 50 # Number of frames after the background is refreshed\n",
    "##\n",
    "\n",
    "\n",
    "VIDEODEV = 0\n",
    "camera = cv2.VideoCapture(VIDEODEV); assert camera.isOpened()\n",
    "time.sleep(0.25)\n",
    "firstFrame = None\n",
    "\n",
    "tailsize = 64\n",
    "pts = deque(maxlen=tailsize)\n",
    "it = 0\n",
    "\n",
    "min_area = 500\n",
    "diffDelta = 25\n",
    "camera = cv2.VideoCapture(VIDEODEV); assert camera.isOpened()\n",
    "time.sleep(0.25)\n",
    "while True:\n",
    "    (grabbed, frame) = camera.read()\n",
    "    text = \"Unoccupied\"\n",
    "    \n",
    "    \n",
    "    frame = resize(frame, width=500)\n",
    "    blurred = cv2.GaussianBlur(frame, (11, 11), 0)\n",
    "    hsv = cv2.cvtColor(blurred, cv2.COLOR_BGR2HSV)\n",
    "    gray = cv2.cvtColor(frame, cv2.COLOR_BGR2GRAY)\n",
    "    gray = cv2.GaussianBlur(gray, (21, 21), 0)\n",
    "    \n",
    "    if firstFrame == None: firstFrame = gray\n",
    "    frameDelta = cv2.absdiff(firstFrame, gray)\n",
    "    thresh = cv2.threshold(frameDelta, diffDelta, 255, cv2.THRESH_BINARY)[1]\n",
    "    \n",
    "    mask = cv2.inRange(hsv, colorLower, colorUpper)\n",
    "    mask = cv2.erode(mask, None, iterations=2)\n",
    "    mask = cv2.dilate(mask, None, iterations=2)\n",
    "\n",
    "    thresh = cv2.dilate(thresh, None, iterations=2)\n",
    "    \n",
    "    # The difference betwen now and what we did earlier, is that in this case we are detecting\n",
    "    # the contours on the image times the mask, so all the regions of the background are\n",
    "    # \"invisible\" in this step\n",
    "    cnts = cv2.findContours(thresh.copy()*mask, cv2.RETR_EXTERNAL,cv2.CHAIN_APPROX_SIMPLE)[-2]\n",
    "    center = None\n",
    "\n",
    "    if len(cnts) > 0:\n",
    "        c = max(cnts, key=cv2.contourArea)\n",
    "        ((x, y), radius) = cv2.minEnclosingCircle(c)\n",
    "        M = cv2.moments(c)\n",
    "        try:\n",
    "            center = (int(M[\"m10\"] / M[\"m00\"]), int(M[\"m01\"] / M[\"m00\"]))\n",
    "            if radius > 10:\n",
    "                cv2.circle(frame, (int(x), int(y)), int(radius),(0, 255, 255), 2)\n",
    "                cv2.circle(frame, center, 5, (0, 0, 255), -1)\n",
    "                cv2.putText(frame, \"x: {}, y: {}\".format(center[0], center[1]),(10, frame.shape[0] - 10), cv2.FONT_HERSHEY_SIMPLEX,\n",
    "                            0.35, (0, 0, 255), 1)\n",
    "        except:\n",
    "            print \"Divided by 0\"\n",
    "        \n",
    "    pts.appendleft(center)\n",
    "    \n",
    "    if it%bg_rate ==0: # Refresh the backgound step\n",
    "        firstFrame = gray\n",
    "\n",
    "    for i in xrange(1, len(pts)):\n",
    "        if pts[i - 1] is None or pts[i] is None:\n",
    "            continue\n",
    "        thickness = int(np.sqrt(tailsize / float(i + 1)) * 2.5)\n",
    "        cv2.line(frame, pts[i - 1], pts[i], (0, 0, 255), thickness)\n",
    "    cv2.imshow(\"Security Feed\", frame)\n",
    "    cv2.imshow(\"Thresh\", thresh)\n",
    "    cv2.imshow(\"Frame Delta\", firstFrame)\n",
    "    it +=1\n",
    "    key = cv2.waitKey(1) & 0xFF\n",
    "    # if the `q` key is pressed, break from the lop\n",
    "    if key == ord(\"q\"):\n",
    "        break\n",
    "\n",
    "camera.release()\n",
    "cv2.destroyAllWindows()"
   ]
  },
  {
   "cell_type": "code",
   "execution_count": null,
   "metadata": {
    "collapsed": true
   },
   "outputs": [],
   "source": []
  }
 ],
 "metadata": {
  "kernelspec": {
   "display_name": "Python 2",
   "language": "python",
   "name": "python2"
  },
  "language_info": {
   "codemirror_mode": {
    "name": "ipython",
    "version": 2
   },
   "file_extension": ".py",
   "mimetype": "text/x-python",
   "name": "python",
   "nbconvert_exporter": "python",
   "pygments_lexer": "ipython2",
   "version": "2.7.10"
  }
 },
 "nbformat": 4,
 "nbformat_minor": 0
}
